{
 "cells": [
  {
   "cell_type": "markdown",
   "metadata": {},
   "source": [
    "<div style=\"font-size:18pt; padding-top:20px; text-align:center\">Лабораторная работа 4. <b>Регрессия, классификация, кластеризация и\n",
    " </b> <span style=\"font-weight:bold; color:green\">Spark/MLlib</span></div><hr>\n",
    "<div style=\"text-align:right;\">Папулин С.Ю. <span style=\"font-style: italic;font-weight: bold;\">(papulin_hse@mail.ru)</span></div>"
   ]
  },
  {
   "cell_type": "markdown",
   "metadata": {},
   "source": [
    "<a name=\"0\"></a>\n",
    "<div><span style=\"font-size:14pt; font-weight:bold\">Содержание</span>\n",
    "    <ol>\n",
    "        <li><a href=\"#1\">Регрессия</a>\n",
    "            <ol style = \"list-style-type:lower-alpha\">\n",
    "                <li><a href=\"#1a\">Линейная регрессия</a></li>\n",
    "                <li><a href=\"#1b\">Решающее дерево</a></li>\n",
    "                <li><a href=\"#1c\">Полимиальная регрессия</a></li>\n",
    "            </ol>\n",
    "        </li>\n",
    "        <li><a href=\"#2\">Классификация</a>\n",
    "            <ol style = \"list-style-type:lower-alpha\">\n",
    "                <li><a href=\"#2a\">Логистическая регрессия</a></li>\n",
    "                <li><a href=\"#2b\">Решающее дерево</a></li>\n",
    "                <li><a href=\"#2c\">Полимиальная логистическая регрессия </a></li>\n",
    "            </ol>\n",
    "        </li>\n",
    "        <li><a href=\"#3\">Кластеризация</a>\n",
    "            <ol style = \"list-style-type:lower-alpha\">\n",
    "                <li><a href=\"#3a\">K-Mean</a></li>\n",
    "            </ol>\n",
    "        </li>\n",
    "        <li><a href=\"#4\">Источники</a>\n",
    "        </li>\n",
    "    </ol>\n",
    "</div>"
   ]
  },
  {
   "cell_type": "markdown",
   "metadata": {},
   "source": [
    "<p><b>Инициализация</b></p>"
   ]
  },
  {
   "cell_type": "markdown",
   "metadata": {},
   "source": [
    "В данной работе будут задействованы pyspark с библиотекой MLlib, numpy для мат.расчетов и matplotlib для построения графиков."
   ]
  },
  {
   "cell_type": "code",
   "execution_count": 1,
   "metadata": {
    "collapsed": true
   },
   "outputs": [],
   "source": [
    "import pyspark"
   ]
  },
  {
   "cell_type": "code",
   "execution_count": 2,
   "metadata": {
    "collapsed": true
   },
   "outputs": [],
   "source": [
    "import numpy as np"
   ]
  },
  {
   "cell_type": "code",
   "execution_count": 3,
   "metadata": {
    "collapsed": false
   },
   "outputs": [],
   "source": [
    "import matplotlib.pyplot as plt\n",
    "%matplotlib inline\n",
    "\n",
    "from matplotlib.colors import ListedColormap\n",
    "clrMap = ListedColormap([\"blue\", \"red\", \"green\"])"
   ]
  },
  {
   "cell_type": "code",
   "execution_count": 4,
   "metadata": {
    "collapsed": true
   },
   "outputs": [],
   "source": [
    "from pyspark.mllib.regression import LabeledPoint"
   ]
  },
  {
   "cell_type": "markdown",
   "metadata": {},
   "source": [
    "Рассмотрены два основных подхода в анализе данных:\n",
    "1. Обучение с учителем (регрессия, классификация)\n",
    "2. Обучение без учителя (кластеризация)\n",
    "\n",
    "Отличаются эти подходы тем, что в случае обучения с учителем мы уже имеем данные с правильными результатами, с помощью которых мы и производим восстановление зависимости целевой переменной от признаков (что это такое см. ниже). <br>\n",
    "В случае обучения без учителя у нас нет данных, на которые мы могли бы положиться, поэтому оно используется в специфических задачах таких, как кластеризация, когда наша задача правильно \"отделить\" объекты друг от друга на основе их признаков (т.е. по факту нам важны преимущественно отношения объектов друг к другу)."
   ]
  },
  {
   "cell_type": "markdown",
   "metadata": {},
   "source": [
    "<a name=\"1\"></a>\n",
    "<div style=\"display:table; width:100%; padding-top:10px; padding-bottom:10px; border-bottom:1px solid lightgrey\">\n",
    "    <div style=\"display:table-row\">\n",
    "        <div style=\"display:table-cell; width:80%; font-size:14pt; font-weight:bold\">1. Регрессия</div>\n",
    "    \t<div style=\"display:table-cell; width:20%; text-align:center; background-color:whitesmoke; border:1px solid lightgrey\"><a href=\"#0\">К содержанию</a></div>\n",
    "    </div>\n",
    "</div>"
   ]
  },
  {
   "cell_type": "markdown",
   "metadata": {},
   "source": [
    "<a name = \"1a\"></a>\n",
    "<div style = \"display:table; width:100%\">\n",
    "    <div style = \"display:table-row\">\n",
    "        <div style = \"display:table-cell; width:80%; font-style:italic; font-weight:bold; font-size:12pt\">\n",
    "            a. Линейная регрессия\n",
    "        </div>\n",
    "        <div style=\"display:table-cell; border:1px solid lightgrey; width:20%\">\n",
    "            <div style = \"display:table-cell; width:10%; text-align:center; background-color:whitesmoke;\">\n",
    "                <a href=\"#1\">Назад</a>\n",
    "            </div>\n",
    "            <div style = \"display:table-cell; width:10%; text-align:center;\">\n",
    "                <a href=\"#1b\">Далее</a>\n",
    "            </div>\n",
    "        </div>\n",
    "    </div>\n",
    "</div>"
   ]
  },
  {
   "cell_type": "markdown",
   "metadata": {},
   "source": [
    "Линейная регрессия - метод восстановления линейной зависимости одной целевой переменной (обозначим ее **y**) от переменных-признаков (обозначим их **x**). Также признаки иногда называют предикторами.\n",
    "Модель линейной регрессии имеет следующий вид: <br> $ y_i = f(x_i, w) + eps $ <br>\n",
    "где $ y_i $ - это значение целевой переменной в i-ой точке со значениями признаков x_i, <br>\n",
    "$ w $ - коэффициенты весов признаков, <br>\n",
    "$ eps $ - значение случайной ошибки. <br>\n",
    "\n",
    "В одномерном случае (когда имеем только один признак) функция $ f(x_i, w) $ имеет следующий вид: <br>\n",
    "$ f(x_i, w) = w_0 + w_1*x_i $ <br>\n",
    "где $ w_0 $ - это свободный коэффициент (детальный рассказ - в спец.литературе), <br>\n",
    "    $ w_1 $ - вес признака $ x_i $ <br>\n",
    "Таким образом, вся модель имеет следующий вид: <br>\n",
    "$ y_i = w_0 + w_1*x_i + eps $\n",
    "\n",
    "Примером линейной модели в одномерном случае может служить попытка восстановления зависимости роста от веса. В данном случае мы имеем целевую переменную рост и один признак - вес. Если не учитывать выбросы, то по большому счету эту зависимость можно достаточно точно представить линейной моделью."
   ]
  },
  {
   "cell_type": "code",
   "execution_count": 5,
   "metadata": {
    "collapsed": true
   },
   "outputs": [],
   "source": [
    "from pyspark.mllib.regression import LinearRegressionWithSGD"
   ]
  },
  {
   "cell_type": "code",
   "execution_count": 6,
   "metadata": {
    "collapsed": true
   },
   "outputs": [],
   "source": [
    "data_rdd = sc.textFile(\"/user/cloudera/Lab_4/Reg_A5.csv\")"
   ]
  },
  {
   "cell_type": "markdown",
   "metadata": {},
   "source": [
    "Для библиотеки MLlib необходимо представлять признаки в виде tuple (по сути - пар), где первым элементом является значение целевой переменной в точке, а вторым - вектор признаков в этой точке. Реализуется такое представление с помощью класса LabeledPoint."
   ]
  },
  {
   "cell_type": "code",
   "execution_count": 7,
   "metadata": {
    "collapsed": true
   },
   "outputs": [],
   "source": [
    "def getLabeledPoint(line):\n",
    "    if line[0]!=\"X\":\n",
    "        els = [float(el) for el in line.split(\",\")] \n",
    "        return LabeledPoint(els[1], els[0:1])"
   ]
  },
  {
   "cell_type": "code",
   "execution_count": null,
   "metadata": {
    "collapsed": false
   },
   "outputs": [],
   "source": [
    "data_xy_rdd = data_rdd.map(getLabeledPoint).filter(lambda x: x!=None)\n",
    "data_xy_rdd.take(5)"
   ]
  },
  {
   "cell_type": "markdown",
   "metadata": {},
   "source": [
    "Отобразим загруженные точки на графике"
   ]
  },
  {
   "cell_type": "code",
   "execution_count": null,
   "metadata": {
    "collapsed": false
   },
   "outputs": [],
   "source": [
    "for el in data_xy_rdd.collect():\n",
    "    plt.plot(el.features[0], el.label, \"bo\")\n",
    "plt.grid(True)\n",
    "plt.title(\"Initial Data\")\n",
    "plt.xlabel(\"X0\")\n",
    "plt.ylabel(\"X1\")\n",
    "plt.show()"
   ]
  },
  {
   "cell_type": "markdown",
   "metadata": {},
   "source": [
    "Разделим все данные на обучающую и тестовую выборку.\n",
    "На обучающей будет происходить восстановление исходной модели, а на тестовой мы проверим ее точность."
   ]
  },
  {
   "cell_type": "code",
   "execution_count": 12,
   "metadata": {
    "collapsed": true
   },
   "outputs": [],
   "source": [
    "train_rdd, test_rdd = data_xy_rdd.randomSplit([0.7, 0.3], seed=100)"
   ]
  },
  {
   "cell_type": "code",
   "execution_count": null,
   "metadata": {
    "collapsed": false
   },
   "outputs": [],
   "source": [
    "train_rdd.count(), test_rdd.count()"
   ]
  },
  {
   "cell_type": "markdown",
   "metadata": {},
   "source": [
    "Обучать модель будем с помощью метода стохастического градиентного спуска.<br>\n",
    "В качестве целевой функции (\"функционал\") будем использовать среднеквадратичную ошибку алгоритма, которая равна сумме квадратов отклонения наших прогнозов от реальных значений деленная на количество элементов в выборке. Этот функционал нам надо минимизировать, чтобы получить минимальное отклонение нашей функции от реальных значений.<br>\n",
    "Основная идея метода стохастического градиентного спуска заключается в том, что с помощью высчитывания градиента в точках, мы получаем направление наибольшего роста целевой функции. Т.к. нам нужно минимзировать значения целевой функции, то мы изменяем веса признаков таким образом, чтобы с каждой итерации изменения весов мы двигались по направлению антиградиента (т.е. \"спускались\" в направлении противоположному градиенту).<br>\n",
    "Более подробное описание можно найти в интернете."
   ]
  },
  {
   "cell_type": "code",
   "execution_count": null,
   "metadata": {
    "collapsed": false
   },
   "outputs": [],
   "source": [
    "model_linReg = LinearRegressionWithSGD.train(train_rdd, intercept=True)\n",
    "model_linReg"
   ]
  },
  {
   "cell_type": "markdown",
   "metadata": {},
   "source": [
    "Проверка на тестовом подмножестве"
   ]
  },
  {
   "cell_type": "code",
   "execution_count": null,
   "metadata": {
    "collapsed": false
   },
   "outputs": [],
   "source": [
    "pairsTruePred_rdd = test_rdd.map(lambda x: (x.label, model_linReg.predict(x.features)))\n",
    "pairsTruePred_rdd.take(5)"
   ]
  },
  {
   "cell_type": "code",
   "execution_count": null,
   "metadata": {
    "collapsed": false
   },
   "outputs": [],
   "source": [
    "mse = pairsTruePred_rdd.map(lambda x: (x[0]-x[1])**2).reduce(lambda x1, x2: x1+x2) / test_rdd.count()\n",
    "mse"
   ]
  },
  {
   "cell_type": "markdown",
   "metadata": {},
   "source": [
    "Построение итоговых графиков"
   ]
  },
  {
   "cell_type": "code",
   "execution_count": null,
   "metadata": {
    "collapsed": false
   },
   "outputs": [],
   "source": [
    "xx = np.arange(0, 5, 0.01)[np.newaxis,:]\n",
    "plt.figure(1)\n",
    "plt.subplot(1,1,1)\n",
    "\n",
    "plt.plot(xx[0,:], model_linReg.predict(xx), c=\"black\", label=\"\", linewidth=2)\n",
    "plt.title(\"Initial Data\")\n",
    "plt.xlabel(\"X0\")\n",
    "plt.ylabel(\"X1\")\n",
    "for el in data_xy_rdd.collect():\n",
    "    plt.plot(el.features[0], el.label, \"bo\")\n",
    "plt.grid(True)\n",
    "\n",
    "plt.show()"
   ]
  },
  {
   "cell_type": "markdown",
   "metadata": {},
   "source": [
    "К особенностям линейных моделей относится следующее:\n",
    "• Линейные модели быстро учатся. В случае со среднеквадратичной ошибкой для вектора весов даже есть аналитическое решение. Также легко применять для линейных моделей градиентный спуск.\n",
    "• При этом линейные модели могут восстанавливать только простые зависимости из-за ограниченного количества параметров (степеней свободы).\n",
    "• В то же время линейные модели можно использовать для восстановления нелинейных зависимостей за счет перехода к спрямляющему пространству, что является довольно сложной операцией.\n",
    "\n",
    "Последний пункт не рассматривался, т.к. это довольно глубокое погружение в тему, что не является целью данной лабораторной."
   ]
  },
  {
   "cell_type": "markdown",
   "metadata": {},
   "source": [
    "<a name = \"1b\"></a>\n",
    "<div style = \"display:table; width:100%\">\n",
    "    <div style = \"display:table-row\">\n",
    "        <div style = \"display:table-cell; width:80%; font-style:italic; font-weight:bold; font-size:12pt\">\n",
    "            b. Решающее дерево\n",
    "        </div>\n",
    "        <div style=\"display:table-cell; border:1px solid lightgrey; width:20%\">\n",
    "            <div style = \"display:table-cell; width:10%; text-align:center; background-color:whitesmoke;\">\n",
    "                <a href=\"#1a\">Назад</a>\n",
    "            </div>\n",
    "            <div style = \"display:table-cell; width:10%; text-align:center;\">\n",
    "                <a href=\"#1c\">Далее</a>\n",
    "            </div>\n",
    "        </div>\n",
    "    </div>\n",
    "</div>"
   ]
  },
  {
   "cell_type": "markdown",
   "metadata": {},
   "source": [
    "Для понимания рассмотрим следующее дерево решений определение болезни у пациента (очень упрощенное):\n",
    "* Температура выше 37?\n",
    "    * Да:\n",
    "        * Болит горло?\n",
    "            * Да -> Ангина\n",
    "            * Нет -> Грипп\n",
    "    * Нет -> Здоров\n",
    "    \n",
    "Данный пример представляет собой бинарное дерево, в каждой внутренней вершине записано условие, а в каждом листе дерева — прогноз. Строго говоря, не обязательно решающее дерево должно быть бинарным, но как правило используются именно бинарные.\n",
    "\n",
    "Условия во внутренних вершинах выбираются крайне простыми. Наиболее частый вариант — проверить, лежит ли значение некоторого признака $ x^j $ левее, чем заданный порог t: <br>\n",
    "$ [x^j \\leq t] $ <br>\n",
    "Это очень простое условие, которое зависит всего от одного признака, но его достаточно, чтобы решать многие сложные задачи.\n",
    "Прогноз в листе является вещественным числом, если решается задача регрессии. Если же решается задача классификации, то в качестве прогноза выступает или класс, или распределение вероятностей классов.\n",
    "\n",
    "Про обучении модели использующей решающие деревья выполняется задача подбора пороговых значений таким образом, чтобы они максимально точно отделяли классы в случае задач классификации или давали максимально близкие значения в случае задач регрессии."
   ]
  },
  {
   "cell_type": "code",
   "execution_count": null,
   "metadata": {
    "collapsed": true
   },
   "outputs": [],
   "source": [
    "from pyspark.mllib.tree import DecisionTree, DecisionTreeModel"
   ]
  },
  {
   "cell_type": "markdown",
   "metadata": {},
   "source": [
    "Обучение"
   ]
  },
  {
   "cell_type": "code",
   "execution_count": null,
   "metadata": {
    "collapsed": false
   },
   "outputs": [],
   "source": [
    "model_decTree = DecisionTree.trainRegressor(train_rdd, impurity=\"variance\", maxDepth=2, categoricalFeaturesInfo={})\n",
    "model_decTree"
   ]
  },
  {
   "cell_type": "markdown",
   "metadata": {},
   "source": [
    "Тестирование"
   ]
  },
  {
   "cell_type": "code",
   "execution_count": null,
   "metadata": {
    "collapsed": false
   },
   "outputs": [],
   "source": [
    "test_pred_rdd = model_decTree.predict(test_rdd.map(lambda x: x.features))"
   ]
  },
  {
   "cell_type": "code",
   "execution_count": null,
   "metadata": {
    "collapsed": false
   },
   "outputs": [],
   "source": [
    "pairsTruePred_rdd = test_rdd.map(lambda x: x.label).zip(test_pred_rdd)\n",
    "pairsTruePred_rdd.take(5)"
   ]
  },
  {
   "cell_type": "code",
   "execution_count": null,
   "metadata": {
    "collapsed": false
   },
   "outputs": [],
   "source": [
    "mse = pairsTruePred_rdd.map(lambda x: (x[0]-x[1])**2).reduce(lambda x1, x2: x1+x2) / test_rdd.count()\n",
    "mse"
   ]
  },
  {
   "cell_type": "markdown",
   "metadata": {
    "collapsed": false
   },
   "source": [
    "Построение итоговых графиков"
   ]
  },
  {
   "cell_type": "code",
   "execution_count": null,
   "metadata": {
    "collapsed": false
   },
   "outputs": [],
   "source": [
    "#Построение итоговых графиков\n",
    "xx = np.arange(0, 5, 0.01)\n",
    "pr = [model_decTree.predict([el]) for el in xx]\n",
    "\n",
    "plt.figure(1)\n",
    "plt.subplot(1,1,1)\n",
    "plt.plot(xx, pr, c=\"black\", label=\"\", linewidth=2)\n",
    "plt.title(\"Initial Data\")\n",
    "plt.xlabel(\"X0\")\n",
    "plt.ylabel(\"X1\")\n",
    "for el in data_xy_rdd.collect():\n",
    "    plt.plot(el.features[0], el.label, \"bo\")\n",
    "plt.grid(True)\n",
    "\n",
    "plt.show()"
   ]
  },
  {
   "cell_type": "markdown",
   "metadata": {},
   "source": [
    "Стоит отметить, что решающие деревья крайне склонны к переобучению. Связано это с тем, что чем глубже дерево, тем точнее результат оно дает на обучающей выборке, но тем меньше его обобщающая способность, т.е. на тестовой выборке результат будет плохой. <br>\n",
    "Для предотвращения переобучения ограничивают глубину дерева, но это может также привести к плохой точности, поэтому чаще всего используют решающие деревья как часть **случайных лесов**.<br>\n",
    "Случайный лес - это построение решающий деревьев небольшой глубины на случайных подвыборках обучающих выборок с дальнейшим усреднением пороговых значений. Этот метод крайне эффективен и модель RandomForest (наряду с градиентным бустингом) часто является классическим выбором в случае, если не знаешь, какой подход выбрать."
   ]
  },
  {
   "cell_type": "markdown",
   "metadata": {},
   "source": [
    "<a name = \"1c\"></a>\n",
    "<div style = \"display:table; width:100%\">\n",
    "    <div style = \"display:table-row\">\n",
    "        <div style = \"display:table-cell; width:80%; font-style:italic; font-weight:bold; font-size:12pt\">\n",
    "            c. Полимиальная регрессия\n",
    "        </div>\n",
    "        <div style=\"display:table-cell; border:1px solid lightgrey; width:20%\">\n",
    "            <div style = \"display:table-cell; width:10%; text-align:center; background-color:whitesmoke;\">\n",
    "                <a href=\"#1b\">Назад</a>\n",
    "            </div>\n",
    "            <div style = \"display:table-cell; width:10%; text-align:center;\">\n",
    "                <a href=\"#2\">Далее</a>\n",
    "            </div>\n",
    "        </div>\n",
    "    </div>\n",
    "</div>"
   ]
  },
  {
   "cell_type": "markdown",
   "metadata": {},
   "source": [
    "В случае, когда необходимо восстановить нелинейные зависимости, линейные модели обычно дают плохой результат. Для того, чтобы создать эффективную модель для нелинейных зависимостей используются спрямляющие пространства признаков.<br>\n",
    "Спрямляющим пространством признаков называется такое пространство, в котором задача хорошо решается линейной моделью.<br>\n",
    "Мы будем строить спрямляющее пространство посредством добавления к уже имеющимся признакам полиномиальных:\n",
    "$ (x_1,...,x_d) → (x_1,...,x_d,...,x_ix_j,...,x_ix_jx_k,...) $"
   ]
  },
  {
   "cell_type": "code",
   "execution_count": null,
   "metadata": {
    "collapsed": true
   },
   "outputs": [],
   "source": [
    "#from sklearn.preprocessing import PolynomialFeatures\n",
    "#from pyspark.mllib.feature import Normalizer\n",
    "from pyspark.mllib.feature import StandardScaler"
   ]
  },
  {
   "cell_type": "markdown",
   "metadata": {},
   "source": [
    "Формирование полинома + Нормализация"
   ]
  },
  {
   "cell_type": "code",
   "execution_count": null,
   "metadata": {
    "collapsed": true
   },
   "outputs": [],
   "source": [
    "deg = 10"
   ]
  },
  {
   "cell_type": "code",
   "execution_count": null,
   "metadata": {
    "collapsed": true
   },
   "outputs": [],
   "source": [
    "def get1DPolynomialFeatures(x, degree=deg):\n",
    "    return [x**i for i in range(0, degree+1)]"
   ]
  },
  {
   "cell_type": "code",
   "execution_count": null,
   "metadata": {
    "collapsed": false
   },
   "outputs": [],
   "source": [
    "norm = StandardScaler(withMean=True, withStd=True)"
   ]
  },
  {
   "cell_type": "code",
   "execution_count": null,
   "metadata": {
    "collapsed": true
   },
   "outputs": [],
   "source": [
    "train_labels_rdd = train_rdd.map(lambda x: x.label)\n",
    "train_features_poly_rdd = train_rdd.map(lambda x: get1DPolynomialFeatures(x.features[0], deg))"
   ]
  },
  {
   "cell_type": "code",
   "execution_count": null,
   "metadata": {
    "collapsed": false
   },
   "outputs": [],
   "source": [
    "train_features_poly_rdd.take(5)"
   ]
  },
  {
   "cell_type": "code",
   "execution_count": null,
   "metadata": {
    "collapsed": false
   },
   "outputs": [],
   "source": [
    "scaler = norm.fit(train_features_poly_rdd)"
   ]
  },
  {
   "cell_type": "code",
   "execution_count": null,
   "metadata": {
    "collapsed": false
   },
   "outputs": [],
   "source": [
    "train_features_poly_norm_rdd = scaler.transform(train_features_poly_rdd)\n",
    "train_features_poly_norm_rdd.take(5)"
   ]
  },
  {
   "cell_type": "code",
   "execution_count": null,
   "metadata": {
    "collapsed": false
   },
   "outputs": [],
   "source": [
    "train_poly_rdd = train_labels_rdd.zip(train_features_poly_norm_rdd).map(lambda x: LabeledPoint(x[0], x[1]))\n",
    "train_poly_rdd.take(5)"
   ]
  },
  {
   "cell_type": "code",
   "execution_count": null,
   "metadata": {
    "collapsed": true
   },
   "outputs": [],
   "source": [
    "test_labels_rdd = test_rdd.map(lambda x: x.label)\n",
    "test_features_poly_rdd = test_rdd.map(lambda x: get1DPolynomialFeatures(x.features[0], deg))"
   ]
  },
  {
   "cell_type": "code",
   "execution_count": null,
   "metadata": {
    "collapsed": false
   },
   "outputs": [],
   "source": [
    "test_features_poly_norm_rdd = scaler.transform(test_features_poly_rdd)\n",
    "test_features_poly_norm_rdd.take(5)"
   ]
  },
  {
   "cell_type": "code",
   "execution_count": null,
   "metadata": {
    "collapsed": false
   },
   "outputs": [],
   "source": [
    "test_poly_rdd = test_labels_rdd.zip(test_features_poly_norm_rdd).map(lambda x: LabeledPoint(x[0], x[1]))\n",
    "test_poly_rdd.take(5)"
   ]
  },
  {
   "cell_type": "markdown",
   "metadata": {},
   "source": [
    "Обучение"
   ]
  },
  {
   "cell_type": "code",
   "execution_count": null,
   "metadata": {
    "collapsed": false
   },
   "outputs": [],
   "source": [
    "model_linReg = LinearRegressionWithSGD.train(train_poly_rdd, intercept=True, regParam=10e-4, regType=\"l2\", iterations=300)\n",
    "model_linReg"
   ]
  },
  {
   "cell_type": "markdown",
   "metadata": {},
   "source": [
    "Тестирование"
   ]
  },
  {
   "cell_type": "code",
   "execution_count": null,
   "metadata": {
    "collapsed": false
   },
   "outputs": [],
   "source": [
    "pairsTruePred_rdd = test_poly_rdd.map(lambda x: (x.label, model_linReg.predict(x.features)))\n",
    "pairsTruePred_rdd.take(5)"
   ]
  },
  {
   "cell_type": "code",
   "execution_count": null,
   "metadata": {
    "collapsed": false
   },
   "outputs": [],
   "source": [
    "mse = pairsTruePred_rdd.map(lambda x: (x[0]-x[1])**2).reduce(lambda x1, x2: x1+x2) / test_rdd.count()\n",
    "mse"
   ]
  },
  {
   "cell_type": "markdown",
   "metadata": {},
   "source": [
    "Построение итоговых графиков"
   ]
  },
  {
   "cell_type": "code",
   "execution_count": null,
   "metadata": {
    "collapsed": false
   },
   "outputs": [],
   "source": [
    "dd = sc.parallelize(list(map(get1DPolynomialFeatures, np.arange(0, 5, 0.01))))\n",
    "dd.take(5)"
   ]
  },
  {
   "cell_type": "code",
   "execution_count": null,
   "metadata": {
    "collapsed": false
   },
   "outputs": [],
   "source": [
    "ss=scaler.transform(dd)\n",
    "ss.take(5)"
   ]
  },
  {
   "cell_type": "code",
   "execution_count": null,
   "metadata": {
    "collapsed": false
   },
   "outputs": [],
   "source": [
    "ff = ss.map(lambda x: model_linReg.predict(x))\n",
    "yy = ff.collect()"
   ]
  },
  {
   "cell_type": "code",
   "execution_count": null,
   "metadata": {
    "collapsed": false
   },
   "outputs": [],
   "source": [
    "xx = np.arange(0, 5, 0.01)[np.newaxis,:]\n",
    "plt.figure(1)\n",
    "plt.subplot(1,1,1)\n",
    "\n",
    "#xx1 = scaler.transform(np.array(list(map(get1DPolynomialFeatures, np.arange(0, 5, 0.01)))))\n",
    "\n",
    "plt.plot(xx[0,:], yy, c=\"black\", label=\"\", linewidth=2)\n",
    "plt.title(\"Initial Data\")\n",
    "plt.xlabel(\"X0\")\n",
    "plt.ylabel(\"X1\")\n",
    "for el in data_xy_rdd.collect():\n",
    "    plt.plot(el.features[0], el.label, \"bo\")\n",
    "plt.grid(True)\n",
    "\n",
    "plt.show()"
   ]
  },
  {
   "cell_type": "markdown",
   "metadata": {},
   "source": [
    "<a name=\"2\"></a>\n",
    "<div style=\"display:table; width:100%; padding-top:10px; padding-bottom:10px; border-bottom:1px solid lightgrey\">\n",
    "    <div style=\"display:table-row\">\n",
    "        <div style=\"display:table-cell; width:80%; font-size:14pt; font-weight:bold\">2. Классификация</div>\n",
    "    \t<div style=\"display:table-cell; width:20%; text-align:center; background-color:whitesmoke; border:1px solid lightgrey\"><a href=\"#0\">К содержанию</a></div>\n",
    "    </div>\n",
    "</div>"
   ]
  },
  {
   "cell_type": "markdown",
   "metadata": {},
   "source": [
    "<a name = \"2a\"></a>\n",
    "<div style = \"display:table; width:100%\">\n",
    "    <div style = \"display:table-row\">\n",
    "        <div style = \"display:table-cell; width:80%; font-style:italic; font-weight:bold; font-size:12pt\">\n",
    "            a. Логистическая регрессия\n",
    "        </div>\n",
    "        <div style=\"display:table-cell; border:1px solid lightgrey; width:20%\">\n",
    "            <div style = \"display:table-cell; width:10%; text-align:center; background-color:whitesmoke;\">\n",
    "                <a href=\"#2\">Назад</a>\n",
    "            </div>\n",
    "            <div style = \"display:table-cell; width:10%; text-align:center;\">\n",
    "                <a href=\"#2b\">Далее</a>\n",
    "            </div>\n",
    "        </div>\n",
    "    </div>\n",
    "</div>"
   ]
  },
  {
   "cell_type": "markdown",
   "metadata": {},
   "source": [
    "Логистическая регрессия – это метод обучения с учителем в задаче бинарной классификации Y = {0, 1}.\n",
    "Принцип следующий: делается предположение, что вероятность, что объект имеет класс 1 равна <br>\n",
    "$ {\\mathbb  {P}}\\{y=1\\mid x\\}=f(z) $ <br>\n",
    "где $ {\\displaystyle z=w _{1}x_{1}+\\ldots +w _{n}x_{n}}$ <br> $ x_1, .. , x_n $ - признаки, $ w_1, .. , w_n$ - веса признаков.<br>\n",
    "$ f(z) $ — так называемая логистическая функция (иногда также называемая сигмоидом или логит-функцией):<br>\n",
    "$ f(z)={\\frac{1}{1 + e^{-z}}} $ <br>\n",
    "Далее берется определенный порог от 0 до 1 и в зависимости от значения f(z) определяется, к какому классу принадлежит данный объект."
   ]
  },
  {
   "cell_type": "code",
   "execution_count": null,
   "metadata": {
    "collapsed": true
   },
   "outputs": [],
   "source": [
    "from pyspark.mllib.classification import LogisticRegressionWithSGD"
   ]
  },
  {
   "cell_type": "code",
   "execution_count": null,
   "metadata": {
    "collapsed": true
   },
   "outputs": [],
   "source": [
    "from pyspark.mllib.linalg import Vectors"
   ]
  },
  {
   "cell_type": "code",
   "execution_count": null,
   "metadata": {
    "collapsed": false
   },
   "outputs": [],
   "source": [
    "def getLabeledPoint(line):\n",
    "    if line[0]!=\"X\":\n",
    "        els = [float(el) for el in line.split(\",\")]\n",
    "        return LabeledPoint(els[2], els[:2])"
   ]
  },
  {
   "cell_type": "code",
   "execution_count": null,
   "metadata": {
    "collapsed": true
   },
   "outputs": [],
   "source": [
    "data_rdd = sc.textFile(\"Datasets/Cl_A5_V2.csv\")"
   ]
  },
  {
   "cell_type": "code",
   "execution_count": null,
   "metadata": {
    "collapsed": false
   },
   "outputs": [],
   "source": [
    "data_xy_rdd = data_rdd.map(getLabeledPoint).filter(lambda x: x!= None)\n",
    "data_xy_rdd.take(5)"
   ]
  },
  {
   "cell_type": "code",
   "execution_count": null,
   "metadata": {
    "collapsed": false
   },
   "outputs": [],
   "source": [
    "#Отображение исходных данных\n",
    "plt.title(\"Initial Data\")\n",
    "plt.xlabel(\"X0\")\n",
    "plt.ylabel(\"X1\")\n",
    "for el in data_xy_rdd.collect():\n",
    "    plt.plot(el.features[0], el.features[1], \"o\", color=clrMap.colors[int(el.label)])\n",
    "plt.grid(True)\n",
    "plt.show()"
   ]
  },
  {
   "cell_type": "markdown",
   "metadata": {},
   "source": [
    "Формирование обучающего и терировочного подмножеств"
   ]
  },
  {
   "cell_type": "code",
   "execution_count": null,
   "metadata": {
    "collapsed": false
   },
   "outputs": [],
   "source": [
    "train_rdd, test_rdd = data_xy_rdd.randomSplit([0.7, 0.3], seed=0)"
   ]
  },
  {
   "cell_type": "markdown",
   "metadata": {},
   "source": [
    "Обучение"
   ]
  },
  {
   "cell_type": "code",
   "execution_count": null,
   "metadata": {
    "collapsed": false
   },
   "outputs": [],
   "source": [
    "model_logReg = LogisticRegressionWithSGD.train(train_rdd, intercept=True)\n",
    "model_logReg"
   ]
  },
  {
   "cell_type": "markdown",
   "metadata": {},
   "source": [
    "Тестирование"
   ]
  },
  {
   "cell_type": "code",
   "execution_count": null,
   "metadata": {
    "collapsed": false
   },
   "outputs": [],
   "source": [
    "pairsTruePred_rdd = test_rdd.map(lambda x: (x.label, model_logReg.predict(x.features)))\n",
    "pairsTruePred_rdd.take(5)"
   ]
  },
  {
   "cell_type": "code",
   "execution_count": null,
   "metadata": {
    "collapsed": false
   },
   "outputs": [],
   "source": [
    "accuracy = pairsTruePred_rdd.filter(lambda x: x[0] == x[1]).count() / test_rdd.count()\n",
    "accuracy"
   ]
  },
  {
   "cell_type": "code",
   "execution_count": null,
   "metadata": {
    "collapsed": false
   },
   "outputs": [],
   "source": [
    "points"
   ]
  },
  {
   "cell_type": "code",
   "execution_count": null,
   "metadata": {
    "collapsed": false
   },
   "outputs": [],
   "source": [
    "step = 0.1\n",
    "xx, yy = np.meshgrid(np.arange(-2, 14, step), np.arange(-4, 12, step))\n",
    "points = np.c_[xx.ravel(), yy.ravel()]\n",
    "Z = np.array(list(map(model_logReg.predict, points)))\n",
    "Z = Z.reshape(xx.shape)\n",
    "plt.figure(1, figsize=[12, 4])\n",
    "\n",
    "plt.subplot(1,2,1)\n",
    "plt.title(\"Train data\")\n",
    "plt.contourf(xx, yy, Z, cmap=clrMap, alpha=.5)\n",
    "\n",
    "for el in train_rdd.collect():\n",
    "    plt.plot(el.features[0], el.features[1], \"o\", color=clrMap.colors[int(el.label)], markersize=8, alpha=0.5)\n",
    "    plt.plot(el.features[0], el.features[1], \"o\", color=clrMap.colors[int(model_logReg.predict(el.features))], markersize=4)\n",
    "    \n",
    "plt.grid(True)\n",
    "\n",
    "plt.subplot(1,2,2)\n",
    "plt.title(\"Test data\")\n",
    "plt.contourf(xx, yy, Z, cmap=clrMap, alpha=.5)\n",
    "\n",
    "for el in test_rdd.collect():\n",
    "    plt.plot(el.features[0], el.features[1], \"o\", color=clrMap.colors[int(el.label)], markersize=8, alpha=0.5)\n",
    "    plt.plot(el.features[0], el.features[1], \"o\", color=clrMap.colors[int(model_logReg.predict(el.features))], markersize=4)\n",
    "plt.grid(True)\n",
    "\n",
    "plt.show()"
   ]
  },
  {
   "cell_type": "code",
   "execution_count": null,
   "metadata": {
    "collapsed": true
   },
   "outputs": [],
   "source": [
    "model_logReg.save(sc, \"logReg\")\n",
    "#model_logReg_reload = LogisticRegressionModel.load(sc, \"logReg\")"
   ]
  },
  {
   "cell_type": "markdown",
   "metadata": {},
   "source": [
    "<a name = \"2b\"></a>\n",
    "<div style = \"display:table; width:100%\">\n",
    "    <div style = \"display:table-row\">\n",
    "        <div style = \"display:table-cell; width:80%; font-style:italic; font-weight:bold; font-size:12pt\">\n",
    "            b. Решающее дерево\n",
    "        </div>\n",
    "        <div style=\"display:table-cell; border:1px solid lightgrey; width:20%\">\n",
    "            <div style = \"display:table-cell; width:10%; text-align:center; background-color:whitesmoke;\">\n",
    "                <a href=\"#2a\">Назад</a>\n",
    "            </div>\n",
    "            <div style = \"display:table-cell; width:10%; text-align:center;\">\n",
    "                <a href=\"#2c\">Далее</a>\n",
    "            </div>\n",
    "        </div>\n",
    "    </div>\n",
    "</div>"
   ]
  },
  {
   "cell_type": "markdown",
   "metadata": {},
   "source": [
    "<a name = \"2c\"></a>\n",
    "<div style = \"display:table; width:100%\">\n",
    "    <div style = \"display:table-row\">\n",
    "        <div style = \"display:table-cell; width:80%; font-style:italic; font-weight:bold; font-size:12pt\">\n",
    "            c. Полимиальная логистическая регрессия\n",
    "        </div>\n",
    "        <div style=\"display:table-cell; border:1px solid lightgrey; width:20%\">\n",
    "            <div style = \"display:table-cell; width:10%; text-align:center; background-color:whitesmoke;\">\n",
    "                <a href=\"#2b\">Назад</a>\n",
    "            </div>\n",
    "            <div style = \"display:table-cell; width:10%; text-align:center;\">\n",
    "                <a href=\"#3\">Далее</a>\n",
    "            </div>\n",
    "        </div>\n",
    "    </div>\n",
    "</div>"
   ]
  },
  {
   "cell_type": "markdown",
   "metadata": {},
   "source": [
    "<a name=\"3\"></a>\n",
    "<div style=\"display:table; width:100%; padding-top:10px; padding-bottom:10px; border-bottom:1px solid lightgrey\">\n",
    "    <div style=\"display:table-row\">\n",
    "        <div style=\"display:table-cell; width:80%; font-size:14pt; font-weight:bold\">3. Кластеризация</div>\n",
    "    \t<div style=\"display:table-cell; width:20%; text-align:center; background-color:whitesmoke; border:1px solid lightgrey\"><a href=\"#0\">К содержанию</a></div>\n",
    "    </div>\n",
    "</div>"
   ]
  },
  {
   "cell_type": "markdown",
   "metadata": {},
   "source": [
    "<a name = \"3a\"></a>\n",
    "<div style = \"display:table; width:100%\">\n",
    "    <div style = \"display:table-row\">\n",
    "        <div style = \"display:table-cell; width:80%; font-style:italic; font-weight:bold; font-size:12pt\">\n",
    "            a. K-Means\n",
    "        </div>\n",
    "        <div style=\"display:table-cell; border:1px solid lightgrey; width:20%\">\n",
    "            <div style = \"display:table-cell; width:10%; text-align:center; background-color:whitesmoke;\">\n",
    "                <a href=\"#3\">Назад</a>\n",
    "            </div>\n",
    "            <div style = \"display:table-cell; width:10%; text-align:center;\">\n",
    "                <a href=\"#3b\">Далее</a>\n",
    "            </div>\n",
    "        </div>\n",
    "    </div>\n",
    "</div>"
   ]
  },
  {
   "cell_type": "code",
   "execution_count": null,
   "metadata": {
    "collapsed": true
   },
   "outputs": [],
   "source": [
    "from pyspark.mllib.clustering import KMeans, KMeansModel"
   ]
  },
  {
   "cell_type": "code",
   "execution_count": null,
   "metadata": {
    "collapsed": true
   },
   "outputs": [],
   "source": [
    "def getArray(x):\n",
    "    return np.array(x.split(\",\"))"
   ]
  },
  {
   "cell_type": "code",
   "execution_count": null,
   "metadata": {
    "collapsed": false
   },
   "outputs": [],
   "source": [
    "data_rdd = sc.textFile(\"Datasets/Clusters.csv\")\n",
    "#data_rdd.take(5)"
   ]
  },
  {
   "cell_type": "code",
   "execution_count": null,
   "metadata": {
    "collapsed": false
   },
   "outputs": [],
   "source": [
    "data_arr_rdd = data_rdd.map(lambda x: getArray(x))\n",
    "#data_arr_rdd.take(5)"
   ]
  },
  {
   "cell_type": "code",
   "execution_count": null,
   "metadata": {
    "collapsed": false
   },
   "outputs": [],
   "source": [
    "for el in data_arr_rdd.collect():\n",
    "    plt.plot(el[0], el[1], \"bo\")\n",
    "plt.grid(True)\n",
    "plt.title(\"Initial Data\")\n",
    "plt.xlabel(\"X0\")\n",
    "plt.ylabel(\"X1\")\n",
    "plt.show()"
   ]
  },
  {
   "cell_type": "markdown",
   "metadata": {},
   "source": [
    "Обучение"
   ]
  },
  {
   "cell_type": "code",
   "execution_count": null,
   "metadata": {
    "collapsed": false
   },
   "outputs": [],
   "source": [
    "clusters = KMeans.train(data_arr_rdd, 3, maxIterations=10, runs=10, initializationMode=\"k-means||\")\n",
    "clusters"
   ]
  },
  {
   "cell_type": "code",
   "execution_count": null,
   "metadata": {
    "collapsed": false
   },
   "outputs": [],
   "source": [
    "result_rdd = data_arr_rdd.map(lambda x: clusters.predict(x)).zip(data_arr_rdd)\n",
    "result_rdd.take(5)"
   ]
  },
  {
   "cell_type": "code",
   "execution_count": null,
   "metadata": {
    "collapsed": true
   },
   "outputs": [],
   "source": []
  },
  {
   "cell_type": "code",
   "execution_count": null,
   "metadata": {
    "collapsed": false
   },
   "outputs": [],
   "source": [
    "for el in result_rdd.collect():\n",
    "    plt.plot(el[1][0], el[1][1], \"o\", color=clrMap.colors[el[0]])\n",
    "        \n",
    "plt.grid(True)\n",
    "plt.title(\"Initial Data\")\n",
    "plt.xlabel(\"X0\")\n",
    "plt.ylabel(\"X1\")\n",
    "plt.show()"
   ]
  },
  {
   "cell_type": "code",
   "execution_count": null,
   "metadata": {
    "collapsed": true
   },
   "outputs": [],
   "source": [
    "clusters.save(sc, \"clusterModel\")\n",
    "sameModel = KMeansModel.load(sc, \"clusterModel\")"
   ]
  },
  {
   "cell_type": "markdown",
   "metadata": {},
   "source": [
    "<a name=\"4\"></a>\n",
    "<div style=\"display:table; width:100%; padding-top:10px; padding-bottom:10px; border-bottom:1px solid lightgrey\">\n",
    "    <div style=\"display:table-row\">\n",
    "        <div style=\"display:table-cell; width:80%; font-size:14pt; font-weight:bold\">4. Источники</div>\n",
    "    \t<div style=\"display:table-cell; width:20%; text-align:center; background-color:whitesmoke; border:1px solid lightgrey\"><a href=\"#0\">К содержанию</a></div>\n",
    "    </div>\n",
    "</div>"
   ]
  },
  {
   "cell_type": "markdown",
   "metadata": {},
   "source": [
    "<a href=\"http://spark.apache.org/docs/latest/ml-guide.html\">Machine Learning Library (MLlib) Guide</a>"
   ]
  },
  {
   "cell_type": "code",
   "execution_count": null,
   "metadata": {
    "collapsed": true
   },
   "outputs": [],
   "source": []
  }
 ],
 "metadata": {
  "anaconda-cloud": {},
  "kernelspec": {
   "display_name": "Python [default]",
   "language": "python",
   "name": "python2"
  },
  "language_info": {
   "codemirror_mode": {
    "name": "ipython",
    "version": 2
   },
   "file_extension": ".py",
   "mimetype": "text/x-python",
   "name": "python",
   "nbconvert_exporter": "python",
   "pygments_lexer": "ipython2",
   "version": "2.7.12"
  }
 },
 "nbformat": 4,
 "nbformat_minor": 0
}
